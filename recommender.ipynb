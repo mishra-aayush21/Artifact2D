{
  "cells": [
    {
      "cell_type": "markdown",
      "metadata": {
        "id": "view-in-github",
        "colab_type": "text"
      },
      "source": [
        "<a href=\"https://colab.research.google.com/github/mishra-aayush21/Artifact2D/blob/main/recommender.ipynb\" target=\"_parent\"><img src=\"https://colab.research.google.com/assets/colab-badge.svg\" alt=\"Open In Colab\"/></a>"
      ]
    },
    {
      "cell_type": "code",
      "execution_count": 3,
      "metadata": {
        "colab": {
          "base_uri": "https://localhost:8080/"
        },
        "id": "7hddPD62lN53",
        "outputId": "7ac3edb1-878a-4e80-8ecb-b9e3292a36f5"
      },
      "outputs": [
        {
          "output_type": "stream",
          "name": "stdout",
          "text": [
            "   userId  movieId  rating  timestamp\n",
            "0       1        1     4.0  964982703\n",
            "1       1        3     4.0  964981247\n",
            "2       1        6     4.0  964982224\n",
            "3       1       47     5.0  964983815\n",
            "4       1       50     5.0  964982931\n",
            "   movieId                               title  \\\n",
            "0        1                    Toy Story (1995)   \n",
            "1        2                      Jumanji (1995)   \n",
            "2        3             Grumpier Old Men (1995)   \n",
            "3        4            Waiting to Exhale (1995)   \n",
            "4        5  Father of the Bride Part II (1995)   \n",
            "\n",
            "                                        genres  \n",
            "0  Adventure|Animation|Children|Comedy|Fantasy  \n",
            "1                   Adventure|Children|Fantasy  \n",
            "2                               Comedy|Romance  \n",
            "3                         Comedy|Drama|Romance  \n",
            "4                                       Comedy  \n"
          ]
        }
      ],
      "source": [
        "import pandas as pd\n",
        "\n",
        "# Load the data\n",
        "ratings = pd.read_csv('/content/data/ratings.csv')\n",
        "movies = pd.read_csv('/content/data/movies.csv')\n",
        "\n",
        "# Display the first few rows\n",
        "print(ratings.head())\n",
        "print(movies.head())"
      ]
    },
    {
      "cell_type": "code",
      "execution_count": 4,
      "metadata": {
        "colab": {
          "base_uri": "https://localhost:8080/"
        },
        "id": "TT5U-_6CmcTQ",
        "outputId": "9c1ca0f6-6cf1-4967-c0a9-518790ea3227"
      },
      "outputs": [
        {
          "output_type": "stream",
          "name": "stdout",
          "text": [
            "movieId  1       2       3       4       5       6       7       8       \\\n",
            "userId                                                                    \n",
            "1           4.0     0.0     4.0     0.0     0.0     4.0     0.0     0.0   \n",
            "2           0.0     0.0     0.0     0.0     0.0     0.0     0.0     0.0   \n",
            "3           0.0     0.0     0.0     0.0     0.0     0.0     0.0     0.0   \n",
            "4           0.0     0.0     0.0     0.0     0.0     0.0     0.0     0.0   \n",
            "5           4.0     0.0     0.0     0.0     0.0     0.0     0.0     0.0   \n",
            "\n",
            "movieId  9       10      ...  193565  193567  193571  193573  193579  193581  \\\n",
            "userId                   ...                                                   \n",
            "1           0.0     0.0  ...     0.0     0.0     0.0     0.0     0.0     0.0   \n",
            "2           0.0     0.0  ...     0.0     0.0     0.0     0.0     0.0     0.0   \n",
            "3           0.0     0.0  ...     0.0     0.0     0.0     0.0     0.0     0.0   \n",
            "4           0.0     0.0  ...     0.0     0.0     0.0     0.0     0.0     0.0   \n",
            "5           0.0     0.0  ...     0.0     0.0     0.0     0.0     0.0     0.0   \n",
            "\n",
            "movieId  193583  193585  193587  193609  \n",
            "userId                                   \n",
            "1           0.0     0.0     0.0     0.0  \n",
            "2           0.0     0.0     0.0     0.0  \n",
            "3           0.0     0.0     0.0     0.0  \n",
            "4           0.0     0.0     0.0     0.0  \n",
            "5           0.0     0.0     0.0     0.0  \n",
            "\n",
            "[5 rows x 9724 columns]\n"
          ]
        }
      ],
      "source": [
        "# Create a user-item matrix\n",
        "user_item_matrix = ratings.pivot(index='userId', columns='movieId', values='rating')\n",
        "\n",
        "# Fill missing values with 0 (no rating)\n",
        "user_item_matrix = user_item_matrix.fillna(0)\n",
        "\n",
        "print(user_item_matrix.head())"
      ]
    },
    {
      "cell_type": "code",
      "execution_count": 5,
      "metadata": {
        "id": "I7i96_cbml94"
      },
      "outputs": [],
      "source": [
        "import numpy as np\n",
        "\n",
        "# Define the number of latent factors\n",
        "num_factors = 10\n",
        "\n",
        "# Initialize user and item matrices with random values\n",
        "num_users, num_items = user_item_matrix.shape\n",
        "user_matrix = np.random.rand(num_users, num_factors)\n",
        "item_matrix = np.random.rand(num_items, num_factors)\n",
        "\n",
        "# Define a function to perform matrix factorization\n",
        "def matrix_factorization(R, P, Q, steps=100, alpha=0.0002, beta=0.02):\n",
        "    for step in range(steps):\n",
        "        for i in range(R.shape[0]):\n",
        "            for j in range(R.shape[1]):\n",
        "                if R[i][j] > 0:\n",
        "                    # Calculate the error\n",
        "                    eij = R[i][j] - np.dot(P[i, :], Q[j, :].T)\n",
        "                    # Update user and item matrices\n",
        "                    P[i, :] += alpha * (2 * eij * Q[j, :] - beta * P[i, :])\n",
        "                    Q[j, :] += alpha * (2 * eij * P[i, :] - beta * Q[j, :])\n",
        "        # Calculate total error\n",
        "        error = 0\n",
        "        for i in range(R.shape[0]):\n",
        "            for j in range(R.shape[1]):\n",
        "                if R[i][j] > 0:\n",
        "                    error += (R[i][j] - np.dot(P[i, :], Q[j, :].T)) ** 2\n",
        "                    error += (beta / 2) * (np.sum(P[i, :] ** 2) + np.sum(Q[j, :] ** 2))\n",
        "        if error < 0.001:\n",
        "            break\n",
        "    return P, Q\n",
        "\n",
        "# Perform matrix factorization\n",
        "user_matrix, item_matrix = matrix_factorization(user_item_matrix.values, user_matrix, item_matrix)"
      ]
    },
    {
      "cell_type": "code",
      "source": [
        "def recommend_movies(user_id, user_matrix, item_matrix, movies, top_n=5):\n",
        "    # Predict ratings for all movies\n",
        "    predicted_ratings = np.dot(user_matrix[user_id - 1], item_matrix.T)\n",
        "\n",
        "    # Get the top N movie IDs\n",
        "    top_movie_ids = np.argsort(predicted_ratings)[-top_n:][::-1]\n",
        "\n",
        "    # Map movie IDs to titles\n",
        "    recommendations = movies[movies['movieId'].isin(top_movie_ids)]\n",
        "    return recommendations\n",
        "\n",
        "# Example: Recommend movies for user 1\n",
        "user_id = 609\n",
        "\n",
        "recommendations = recommend_movies(user_id, user_matrix, item_matrix, movies)\n",
        "print(f\"Top recommendations for user {user_id}:\")\n",
        "print(recommendations)"
      ],
      "metadata": {
        "colab": {
          "base_uri": "https://localhost:8080/"
        },
        "id": "JvCqO1pliuma",
        "outputId": "c9dac1f1-cfce-4918-c233-05f3d13c0b53"
      },
      "execution_count": 13,
      "outputs": [
        {
          "output_type": "stream",
          "name": "stdout",
          "text": [
            "Top recommendations for user 609:\n",
            "      movieId                   title         genres\n",
            "4075     5812  Far from Heaven (2002)  Drama|Romance\n"
          ]
        }
      ]
    },
    {
      "cell_type": "code",
      "source": [
        "from sklearn.metrics import mean_squared_error\n",
        "\n",
        "# Calculate predicted ratings\n",
        "predicted_matrix = np.dot(user_matrix, item_matrix.T)\n",
        "\n",
        "# Flatten the matrices for comparison\n",
        "actual_ratings = user_item_matrix.values.flatten()\n",
        "predicted_ratings = predicted_matrix.flatten()\n",
        "\n",
        "# Calculate RMSE\n",
        "rmse = np.sqrt(mean_squared_error(actual_ratings, predicted_ratings))\n",
        "print(f\"RMSE: {rmse}\")"
      ],
      "metadata": {
        "colab": {
          "base_uri": "https://localhost:8080/"
        },
        "id": "G_DWUUC7i36p",
        "outputId": "fda252bf-53c6-4a53-bf45-603edee3d762"
      },
      "execution_count": 8,
      "outputs": [
        {
          "output_type": "stream",
          "name": "stdout",
          "text": [
            "RMSE: 3.36629366447768\n"
          ]
        }
      ]
    }
  ],
  "metadata": {
    "colab": {
      "provenance": [],
      "authorship_tag": "ABX9TyMh/dDYtVbs2dFxaOBI1Mn8",
      "include_colab_link": true
    },
    "kernelspec": {
      "display_name": "Python 3",
      "name": "python3"
    },
    "language_info": {
      "name": "python"
    }
  },
  "nbformat": 4,
  "nbformat_minor": 0
}